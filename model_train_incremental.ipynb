{
 "cells": [
  {
   "cell_type": "code",
   "execution_count": 134,
   "metadata": {},
   "outputs": [],
   "source": [
    "import torch\n",
    "import tqdm\n",
    "import copy\n",
    "import torch.nn as nn\n",
    "import torch.nn.functional as F\n",
    "import torch.optim as optim\n",
    "import numpy as np\n",
    "import pandas as pd\n",
    "from sklearn.model_selection import train_test_split\n",
    "from data import get_data, pitcher_class\n",
    "from torch.utils.data import DataLoader, TensorDataset"
   ]
  },
  {
   "cell_type": "code",
   "execution_count": 135,
   "metadata": {},
   "outputs": [],
   "source": [
    "model = nn.Sequential(\n",
    "    nn.Linear(20, 40),\n",
    "    nn.Linear(40, 20),\n",
    "    nn.Linear(20, 10),\n",
    "    nn.Linear(10, 5),\n",
    "    nn.Linear(5,1)\n",
    ")"
   ]
  },
  {
   "cell_type": "code",
   "execution_count": 136,
   "metadata": {},
   "outputs": [
    {
     "name": "stdout",
     "output_type": "stream",
     "text": [
      "This is a large query, it may take a moment to complete\n"
     ]
    },
    {
     "name": "stderr",
     "output_type": "stream",
     "text": [
      "100%|██████████| 108/108 [00:14<00:00,  7.38it/s]\n"
     ]
    }
   ],
   "source": [
    "p_throws_map = {'R': 0, 'L': 1}\n",
    "pt_data = get_data.get_pitcher_data()\n",
    "p_dict = pitcher_class.format_pitcher_data(pt_data)\n",
    "new_ds = pitcher_class.process_batch_avg(p_dict)"
   ]
  },
  {
   "cell_type": "code",
   "execution_count": 137,
   "metadata": {},
   "outputs": [],
   "source": [
    "rv_data = get_data.get_runvalue_data()\n",
    "full_ds = get_data.join_ds(new_ds, rv_data) #join data"
   ]
  },
  {
   "cell_type": "code",
   "execution_count": 138,
   "metadata": {},
   "outputs": [],
   "source": [
    "# Apply one-hot encoding to pitches, apply binary to L/R\n",
    "one_hot = pd.get_dummies(full_ds['pitch_name'])\n",
    "full_ds = full_ds.drop('pitch_name',axis = 1)\n",
    "full_ds = full_ds.join(one_hot)\n",
    "full_ds['p_throws'] = [p_throws_map[x] for x in full_ds['p_throws']]"
   ]
  },
  {
   "cell_type": "code",
   "execution_count": 139,
   "metadata": {},
   "outputs": [],
   "source": [
    "#rearrange cols\n",
    "full_ds = full_ds[['player_name','p_throws','Splitter', '4-Seamer', 'Curveball', 'Cutter', 'Sinker', 'Changeup', \n",
    "                  'Slider', 'Sweeper', 'Slurve', 'Forkball', 'Screwball', 'Knuckleball','release_speed','release_pos_x',\n",
    "                  'release_pos_z','pfx_x','pfx_z','release_extension','spin_axis','useage %','pitches','whiff_percent','est_woba',\n",
    "                  'run_value_per_100']]\n",
    "lg_avs = get_data.league_avgs(full_ds)"
   ]
  },
  {
   "cell_type": "code",
   "execution_count": 140,
   "metadata": {},
   "outputs": [],
   "source": [
    "new_plus = get_data.generate_plus(full_ds,lg_avs)\n",
    "full_ds['calc_plus'] = new_plus\n",
    "full_ds.drop(columns=['whiff_percent','est_woba','run_value_per_100'])\n",
    "full_ds = full_ds[full_ds['pitches'] >= 20]"
   ]
  },
  {
   "cell_type": "code",
   "execution_count": 141,
   "metadata": {},
   "outputs": [],
   "source": [
    "init_inp = full_ds[['p_throws','Splitter', '4-Seamer', 'Curveball', 'Cutter', 'Sinker', 'Changeup', \n",
    "                  'Slider', 'Sweeper', 'Slurve', 'Forkball', 'Screwball', 'Knuckleball','release_speed','release_pos_x',\n",
    "                  'release_pos_z','pfx_x','pfx_z','release_extension','spin_axis']]\n",
    "X = torch.tensor(init_inp.to_numpy())\n",
    "X = X.type(torch.float32)\n",
    "init_out = full_ds[['calc_plus']]\n",
    "Y = torch.tensor(init_out.to_numpy())\n",
    "Y = Y.type(torch.float32)"
   ]
  },
  {
   "cell_type": "code",
   "execution_count": 142,
   "metadata": {},
   "outputs": [],
   "source": [
    "X_train, X_test, Y_train, Y_test = train_test_split(X,Y,train_size=.66, random_state=42)"
   ]
  },
  {
   "cell_type": "code",
   "execution_count": 144,
   "metadata": {},
   "outputs": [],
   "source": [
    "\n",
    "mse_loss = nn.MSELoss()\n",
    "optimizer = optim.Adam(model.parameters(), lr=.5)"
   ]
  },
  {
   "cell_type": "code",
   "execution_count": 145,
   "metadata": {},
   "outputs": [],
   "source": [
    "train_data = TensorDataset(X_train, Y_train)\n",
    "test_data = TensorDataset(X_test, Y_test)\n",
    "train_loader = DataLoader(train_data, shuffle=True, batch_size=1000)\n",
    "test_loader = DataLoader(test_data, batch_size=len(test_data.tensors[0]))"
   ]
  },
  {
   "cell_type": "code",
   "execution_count": 154,
   "metadata": {},
   "outputs": [],
   "source": [
    "n_epochs = 10000   # number of epochs to run\n",
    "batch_size = 2000  # size of each batch\n",
    "batch_start = torch.arange(0, len(X_train), batch_size)\n",
    " \n",
    "# Hold the best model\n",
    "best_mse = np.inf   # init to infinity\n",
    "best_weights = None\n",
    "history = []\n",
    "\n",
    "for epoch in range(n_epochs):\n",
    "    model.train()\n",
    "    with tqdm.tqdm(batch_start, unit=\"batch\", mininterval=0, disable=True) as bar:\n",
    "        bar.set_description(f\"Epoch {epoch}\")\n",
    "        for start in bar:\n",
    "            # take a batch\n",
    "            X_batch = X_train[start:start+batch_size]\n",
    "            y_batch = Y_train[start:start+batch_size]\n",
    "            # forward pass\n",
    "            y_pred = model(X_batch)\n",
    "            loss = mse_loss(y_pred, y_batch)\n",
    "            # backward pass\n",
    "            optimizer.zero_grad()\n",
    "            loss.backward()\n",
    "            # update weights\n",
    "            optimizer.step()\n",
    "            # print progress\n",
    "            bar.set_postfix(mse=float(loss))\n",
    "    # evaluate accuracy at end of each epoch\n",
    "    model.eval()\n",
    "    y_pred = model(X_test)\n",
    "    mse = mse_loss(y_pred, Y_test)\n",
    "    mse = float(mse)\n",
    "    history.append(mse)\n",
    "    if mse < best_mse:\n",
    "        best_mse = mse\n",
    "        best_weights = copy.deepcopy(model.state_dict())"
   ]
  },
  {
   "cell_type": "code",
   "execution_count": 175,
   "metadata": {},
   "outputs": [
    {
     "name": "stdout",
     "output_type": "stream",
     "text": [
      "MSE: 7039.55\n",
      "RMSE: 83.90\n"
     ]
    }
   ],
   "source": [
    "# init_inp = full_ds[['p_throws','Splitter', '4-Seamer', 'Curveball', 'Cutter', 'Sinker', 'Changeup', \n",
    "#                   'Slider', 'Sweeper', 'Slurve', 'Forkball', 'Screwball', 'Knuckleball','release_speed','release_pos_x',\n",
    "#                   'release_pos_z','pfx_x','pfx_z','release_extension','spin_axis']]\n",
    "# X = torch.tensor(init_inp.to_numpy())\n",
    "# X = X.type(torch.float32)\n",
    "\n",
    "# state_dict = torch.load('model.pt')\n",
    "# newmodel = model(X)\n",
    "# newmodel.load_state_dict(state_dict)\n",
    "# newmodel.eval()\n",
    "import matplotlib.pyplot as plt\n",
    "model.load_state_dict(best_weights)\n",
    "print(\"MSE: %.2f\" % best_mse)\n",
    "print(\"RMSE: %.2f\" % np.sqrt(best_mse))\n",
    "model.eval()\n",
    "\n",
    "ret = pd.DataFrame(columns = ['pitcher_name', 'pitch_type', 'stuff+'])\n",
    "for index,row in full_ds.iterrows():\n",
    "    pitcher = row['player_name']\n",
    "    pitch_dict = {x: row[x] for x in row.index[2:14]}\n",
    "    pitch_type = None\n",
    "    for key in pitch_dict:\n",
    "        if pitch_dict[key] == 1:\n",
    "            pitch_type = key\n",
    "            break\n",
    "    inp = row[1:21]\n",
    "    pred = model(torch.tensor(inp))[0].item() + 100 \n",
    "    ret.loc[len(ret)] = [pitcher, pitch_type, pred]\n",
    "ret.to_csv('init_test.csv')"
   ]
  }
 ],
 "metadata": {
  "kernelspec": {
   "display_name": "Python 3",
   "language": "python",
   "name": "python3"
  },
  "language_info": {
   "codemirror_mode": {
    "name": "ipython",
    "version": 3
   },
   "file_extension": ".py",
   "mimetype": "text/x-python",
   "name": "python",
   "nbconvert_exporter": "python",
   "pygments_lexer": "ipython3",
   "version": "3.10.2"
  },
  "orig_nbformat": 4
 },
 "nbformat": 4,
 "nbformat_minor": 2
}
